{
 "cells": [
  {
   "cell_type": "code",
   "execution_count": 1,
   "id": "df5710b5",
   "metadata": {},
   "outputs": [],
   "source": [
    "import pandas as pd\n",
    "import numpy as np\n",
    "from matplotlib import pyplot as plt\n",
    "\n",
    "import torch\n",
    "import torch.nn as nn\n",
    "\n",
    "import numpy as np\n",
    "import torch.optim as optim\n",
    "import torch.utils.data as data"
   ]
  },
  {
   "cell_type": "code",
   "execution_count": 2,
   "id": "e6137e43",
   "metadata": {},
   "outputs": [
    {
     "data": {
      "text/html": [
       "<div>\n",
       "<style scoped>\n",
       "    .dataframe tbody tr th:only-of-type {\n",
       "        vertical-align: middle;\n",
       "    }\n",
       "\n",
       "    .dataframe tbody tr th {\n",
       "        vertical-align: top;\n",
       "    }\n",
       "\n",
       "    .dataframe thead th {\n",
       "        text-align: right;\n",
       "    }\n",
       "</style>\n",
       "<table border=\"1\" class=\"dataframe\">\n",
       "  <thead>\n",
       "    <tr style=\"text-align: right;\">\n",
       "      <th></th>\n",
       "      <th>state</th>\n",
       "      <th>date</th>\n",
       "      <th>critical_staffing_shortage_today_yes</th>\n",
       "      <th>critical_staffing_shortage_today_no</th>\n",
       "      <th>critical_staffing_shortage_today_not_reported</th>\n",
       "      <th>critical_staffing_shortage_anticipated_within_week_yes</th>\n",
       "      <th>critical_staffing_shortage_anticipated_within_week_no</th>\n",
       "      <th>critical_staffing_shortage_anticipated_within_week_not_reported</th>\n",
       "      <th>hospital_onset_covid</th>\n",
       "      <th>hospital_onset_covid_coverage</th>\n",
       "      <th>...</th>\n",
       "      <th>previous_day_admission_pediatric_covid_confirmed_5_11_coverage</th>\n",
       "      <th>previous_day_admission_pediatric_covid_confirmed_unknown</th>\n",
       "      <th>previous_day_admission_pediatric_covid_confirmed_unknown_coverage</th>\n",
       "      <th>staffed_icu_pediatric_patients_confirmed_covid</th>\n",
       "      <th>staffed_icu_pediatric_patients_confirmed_covid_coverage</th>\n",
       "      <th>staffed_pediatric_icu_bed_occupancy</th>\n",
       "      <th>staffed_pediatric_icu_bed_occupancy_coverage</th>\n",
       "      <th>total_staffed_pediatric_icu_beds</th>\n",
       "      <th>total_staffed_pediatric_icu_beds_coverage</th>\n",
       "      <th>Demo | State Geographic Boundaries</th>\n",
       "    </tr>\n",
       "  </thead>\n",
       "  <tbody>\n",
       "    <tr>\n",
       "      <th>15475</th>\n",
       "      <td>MA</td>\n",
       "      <td>2020-03-27</td>\n",
       "      <td>0</td>\n",
       "      <td>0</td>\n",
       "      <td>1</td>\n",
       "      <td>0</td>\n",
       "      <td>0</td>\n",
       "      <td>1</td>\n",
       "      <td>0.0</td>\n",
       "      <td>1</td>\n",
       "      <td>...</td>\n",
       "      <td>0</td>\n",
       "      <td>NaN</td>\n",
       "      <td>0</td>\n",
       "      <td>NaN</td>\n",
       "      <td>0</td>\n",
       "      <td>NaN</td>\n",
       "      <td>0</td>\n",
       "      <td>NaN</td>\n",
       "      <td>0</td>\n",
       "      <td>NaN</td>\n",
       "    </tr>\n",
       "    <tr>\n",
       "      <th>17144</th>\n",
       "      <td>MA</td>\n",
       "      <td>2020-03-28</td>\n",
       "      <td>0</td>\n",
       "      <td>0</td>\n",
       "      <td>1</td>\n",
       "      <td>0</td>\n",
       "      <td>0</td>\n",
       "      <td>1</td>\n",
       "      <td>0.0</td>\n",
       "      <td>1</td>\n",
       "      <td>...</td>\n",
       "      <td>0</td>\n",
       "      <td>NaN</td>\n",
       "      <td>0</td>\n",
       "      <td>NaN</td>\n",
       "      <td>0</td>\n",
       "      <td>NaN</td>\n",
       "      <td>0</td>\n",
       "      <td>NaN</td>\n",
       "      <td>0</td>\n",
       "      <td>NaN</td>\n",
       "    </tr>\n",
       "    <tr>\n",
       "      <th>15869</th>\n",
       "      <td>MA</td>\n",
       "      <td>2020-03-29</td>\n",
       "      <td>0</td>\n",
       "      <td>0</td>\n",
       "      <td>2</td>\n",
       "      <td>0</td>\n",
       "      <td>0</td>\n",
       "      <td>2</td>\n",
       "      <td>0.0</td>\n",
       "      <td>2</td>\n",
       "      <td>...</td>\n",
       "      <td>0</td>\n",
       "      <td>NaN</td>\n",
       "      <td>0</td>\n",
       "      <td>NaN</td>\n",
       "      <td>0</td>\n",
       "      <td>NaN</td>\n",
       "      <td>0</td>\n",
       "      <td>NaN</td>\n",
       "      <td>0</td>\n",
       "      <td>NaN</td>\n",
       "    </tr>\n",
       "    <tr>\n",
       "      <th>20763</th>\n",
       "      <td>MA</td>\n",
       "      <td>2020-03-30</td>\n",
       "      <td>0</td>\n",
       "      <td>0</td>\n",
       "      <td>6</td>\n",
       "      <td>0</td>\n",
       "      <td>0</td>\n",
       "      <td>6</td>\n",
       "      <td>0.0</td>\n",
       "      <td>5</td>\n",
       "      <td>...</td>\n",
       "      <td>0</td>\n",
       "      <td>NaN</td>\n",
       "      <td>0</td>\n",
       "      <td>NaN</td>\n",
       "      <td>0</td>\n",
       "      <td>NaN</td>\n",
       "      <td>0</td>\n",
       "      <td>NaN</td>\n",
       "      <td>0</td>\n",
       "      <td>NaN</td>\n",
       "    </tr>\n",
       "    <tr>\n",
       "      <th>16094</th>\n",
       "      <td>MA</td>\n",
       "      <td>2020-03-31</td>\n",
       "      <td>0</td>\n",
       "      <td>0</td>\n",
       "      <td>11</td>\n",
       "      <td>0</td>\n",
       "      <td>0</td>\n",
       "      <td>11</td>\n",
       "      <td>0.0</td>\n",
       "      <td>9</td>\n",
       "      <td>...</td>\n",
       "      <td>0</td>\n",
       "      <td>NaN</td>\n",
       "      <td>0</td>\n",
       "      <td>NaN</td>\n",
       "      <td>0</td>\n",
       "      <td>NaN</td>\n",
       "      <td>0</td>\n",
       "      <td>NaN</td>\n",
       "      <td>0</td>\n",
       "      <td>NaN</td>\n",
       "    </tr>\n",
       "  </tbody>\n",
       "</table>\n",
       "<p>5 rows × 136 columns</p>\n",
       "</div>"
      ],
      "text/plain": [
       "      state       date  critical_staffing_shortage_today_yes  \\\n",
       "15475    MA 2020-03-27                                     0   \n",
       "17144    MA 2020-03-28                                     0   \n",
       "15869    MA 2020-03-29                                     0   \n",
       "20763    MA 2020-03-30                                     0   \n",
       "16094    MA 2020-03-31                                     0   \n",
       "\n",
       "       critical_staffing_shortage_today_no  \\\n",
       "15475                                    0   \n",
       "17144                                    0   \n",
       "15869                                    0   \n",
       "20763                                    0   \n",
       "16094                                    0   \n",
       "\n",
       "       critical_staffing_shortage_today_not_reported  \\\n",
       "15475                                              1   \n",
       "17144                                              1   \n",
       "15869                                              2   \n",
       "20763                                              6   \n",
       "16094                                             11   \n",
       "\n",
       "       critical_staffing_shortage_anticipated_within_week_yes  \\\n",
       "15475                                                  0        \n",
       "17144                                                  0        \n",
       "15869                                                  0        \n",
       "20763                                                  0        \n",
       "16094                                                  0        \n",
       "\n",
       "       critical_staffing_shortage_anticipated_within_week_no  \\\n",
       "15475                                                  0       \n",
       "17144                                                  0       \n",
       "15869                                                  0       \n",
       "20763                                                  0       \n",
       "16094                                                  0       \n",
       "\n",
       "       critical_staffing_shortage_anticipated_within_week_not_reported  \\\n",
       "15475                                                  1                 \n",
       "17144                                                  1                 \n",
       "15869                                                  2                 \n",
       "20763                                                  6                 \n",
       "16094                                                 11                 \n",
       "\n",
       "       hospital_onset_covid  hospital_onset_covid_coverage  ...  \\\n",
       "15475                   0.0                              1  ...   \n",
       "17144                   0.0                              1  ...   \n",
       "15869                   0.0                              2  ...   \n",
       "20763                   0.0                              5  ...   \n",
       "16094                   0.0                              9  ...   \n",
       "\n",
       "       previous_day_admission_pediatric_covid_confirmed_5_11_coverage  \\\n",
       "15475                                                  0                \n",
       "17144                                                  0                \n",
       "15869                                                  0                \n",
       "20763                                                  0                \n",
       "16094                                                  0                \n",
       "\n",
       "       previous_day_admission_pediatric_covid_confirmed_unknown  \\\n",
       "15475                                                NaN          \n",
       "17144                                                NaN          \n",
       "15869                                                NaN          \n",
       "20763                                                NaN          \n",
       "16094                                                NaN          \n",
       "\n",
       "       previous_day_admission_pediatric_covid_confirmed_unknown_coverage  \\\n",
       "15475                                                  0                   \n",
       "17144                                                  0                   \n",
       "15869                                                  0                   \n",
       "20763                                                  0                   \n",
       "16094                                                  0                   \n",
       "\n",
       "       staffed_icu_pediatric_patients_confirmed_covid  \\\n",
       "15475                                             NaN   \n",
       "17144                                             NaN   \n",
       "15869                                             NaN   \n",
       "20763                                             NaN   \n",
       "16094                                             NaN   \n",
       "\n",
       "       staffed_icu_pediatric_patients_confirmed_covid_coverage  \\\n",
       "15475                                                  0         \n",
       "17144                                                  0         \n",
       "15869                                                  0         \n",
       "20763                                                  0         \n",
       "16094                                                  0         \n",
       "\n",
       "       staffed_pediatric_icu_bed_occupancy  \\\n",
       "15475                                  NaN   \n",
       "17144                                  NaN   \n",
       "15869                                  NaN   \n",
       "20763                                  NaN   \n",
       "16094                                  NaN   \n",
       "\n",
       "       staffed_pediatric_icu_bed_occupancy_coverage  \\\n",
       "15475                                             0   \n",
       "17144                                             0   \n",
       "15869                                             0   \n",
       "20763                                             0   \n",
       "16094                                             0   \n",
       "\n",
       "       total_staffed_pediatric_icu_beds  \\\n",
       "15475                               NaN   \n",
       "17144                               NaN   \n",
       "15869                               NaN   \n",
       "20763                               NaN   \n",
       "16094                               NaN   \n",
       "\n",
       "       total_staffed_pediatric_icu_beds_coverage  \\\n",
       "15475                                          0   \n",
       "17144                                          0   \n",
       "15869                                          0   \n",
       "20763                                          0   \n",
       "16094                                          0   \n",
       "\n",
       "       Demo | State Geographic Boundaries  \n",
       "15475                                 NaN  \n",
       "17144                                 NaN  \n",
       "15869                                 NaN  \n",
       "20763                                 NaN  \n",
       "16094                                 NaN  \n",
       "\n",
       "[5 rows x 136 columns]"
      ]
     },
     "execution_count": 2,
     "metadata": {},
     "output_type": "execute_result"
    }
   ],
   "source": [
    "covid_hospitalization_data = pd.read_csv(\"/Users/alex/Documents/Covid_Data/COVID-19_Reported_Patient_Impact_and_Hospital_Capacity_by_State_Timeseries__RAW_.csv\")\n",
    "covid_hospitalization_data[\"date\"] = pd.to_datetime(covid_hospitalization_data[\"date\"])\n",
    "MA_data = covid_hospitalization_data[covid_hospitalization_data['state']=='MA'].sort_values('date')\n",
    "MA_data.head()"
   ]
  },
  {
   "cell_type": "code",
   "execution_count": 3,
   "id": "a9d9baf9",
   "metadata": {},
   "outputs": [
    {
     "data": {
      "text/plain": [
       "1056"
      ]
     },
     "execution_count": 3,
     "metadata": {},
     "output_type": "execute_result"
    }
   ],
   "source": [
    "target_variable = ['total_adult_patients_hospitalized_confirmed_covid']\n",
    "\n",
    "pa_MA_data = MA_data[[target_variable[0]]].dropna().values.astype('float32')\n",
    "len(pa_MA_data)"
   ]
  },
  {
   "cell_type": "code",
   "execution_count": 4,
   "id": "99c06214",
   "metadata": {},
   "outputs": [],
   "source": [
    "train_size = int(len(pa_MA_data) * 0.67)\n",
    "test_size = len(pa_MA_data) - train_size\n",
    "train, test = pa_MA_data[:train_size], pa_MA_data[train_size:]"
   ]
  },
  {
   "cell_type": "code",
   "execution_count": 5,
   "id": "ae46d523",
   "metadata": {},
   "outputs": [],
   "source": [
    "def create_dataset(dataset, lookback):\n",
    "    \"\"\"Transform a time series into a prediction dataset\n",
    "    \n",
    "    Args:\n",
    "        dataset: A numpy array of time series, first dimension is the time steps\n",
    "        lookback: Size of window for prediction\n",
    "    \"\"\"\n",
    "    X, y = [], []\n",
    "    for i in range(len(dataset)-lookback):\n",
    "        feature = dataset[i:i+lookback]\n",
    "        target = dataset[i+1:i+lookback+1]\n",
    "        X.append(feature)\n",
    "        y.append(target)\n",
    "    return torch.tensor(X), torch.tensor(y)"
   ]
  },
  {
   "cell_type": "code",
   "execution_count": 6,
   "id": "9c577d0f",
   "metadata": {},
   "outputs": [
    {
     "name": "stdout",
     "output_type": "stream",
     "text": [
      "torch.Size([700, 7, 1]) torch.Size([700, 7, 1])\n",
      "torch.Size([342, 7, 1]) torch.Size([342, 7, 1])\n"
     ]
    },
    {
     "name": "stderr",
     "output_type": "stream",
     "text": [
      "/var/folders/4x/v484jjj95cn1j9m1kqx7srth0000gn/T/ipykernel_71799/778121417.py:14: UserWarning: Creating a tensor from a list of numpy.ndarrays is extremely slow. Please consider converting the list to a single numpy.ndarray with numpy.array() before converting to a tensor. (Triggered internally at /Users/runner/work/_temp/anaconda/conda-bld/pytorch_1682343680142/work/torch/csrc/utils/tensor_new.cpp:248.)\n",
      "  return torch.tensor(X), torch.tensor(y)\n"
     ]
    }
   ],
   "source": [
    "lookback = 7\n",
    "X_train, y_train = create_dataset(train, lookback=lookback)\n",
    "X_test, y_test = create_dataset(test, lookback=lookback)\n",
    "print(X_train.shape, y_train.shape)\n",
    "print(X_test.shape, y_test.shape)"
   ]
  },
  {
   "cell_type": "code",
   "execution_count": 7,
   "id": "c8d4ad14",
   "metadata": {},
   "outputs": [],
   "source": [
    "import torch.nn as nn\n",
    " \n",
    "class AirModel(nn.Module):\n",
    "    def __init__(self):\n",
    "        super().__init__()\n",
    "        self.lstm = nn.LSTM(input_size=1, hidden_size=50, num_layers=1, batch_first=True)\n",
    "        self.linear = nn.Linear(50, 1)\n",
    "    def forward(self, x):\n",
    "        x, _ = self.lstm(x)\n",
    "        x = self.linear(x)\n",
    "        return x"
   ]
  },
  {
   "cell_type": "code",
   "execution_count": 8,
   "id": "0a570f52",
   "metadata": {},
   "outputs": [],
   "source": [
    "class MAPELoss(nn.Module):\n",
    "    def __init__(self):\n",
    "        super(MAPELoss, self).__init__()\n",
    "\n",
    "    def forward(self, y, y_hat):\n",
    "        mape = torch.abs(y - y_hat) / torch.abs(y)\n",
    "        mape = torch.mean(mape)\n",
    "        return mape"
   ]
  },
  {
   "cell_type": "code",
   "execution_count": 9,
   "id": "73f3bad7",
   "metadata": {},
   "outputs": [
    {
     "name": "stdout",
     "output_type": "stream",
     "text": [
      "Intel MKL WARNING: Support of Intel(R) Streaming SIMD Extensions 4.2 (Intel(R) SSE4.2) enabled only processors has been deprecated. Intel oneAPI Math Kernel Library 2025.0 will require Intel(R) Advanced Vector Extensions (Intel(R) AVX) instructions.\n",
      "Epoch 0: train MAPE 484.9396, test MAPE 417.6397\n",
      "Epoch 100: train MAPE 7.1895, test MAPE 6.0629\n",
      "Epoch 200: train MAPE 2.0000, test MAPE 1.5349\n",
      "Epoch 300: train MAPE 0.7127, test MAPE 0.3897\n",
      "Epoch 400: train MAPE 0.3320, test MAPE 0.0942\n",
      "Epoch 500: train MAPE 0.2159, test MAPE 0.0532\n",
      "Epoch 600: train MAPE 0.1526, test MAPE 0.0390\n",
      "Epoch 700: train MAPE 0.1194, test MAPE 0.0372\n",
      "Epoch 800: train MAPE 0.1010, test MAPE 0.0419\n",
      "Epoch 900: train MAPE 0.0851, test MAPE 0.0376\n",
      "Epoch 1000: train MAPE 0.0771, test MAPE 0.0356\n",
      "Epoch 1100: train MAPE 0.0744, test MAPE 0.0384\n",
      "Epoch 1200: train MAPE 0.0690, test MAPE 0.0363\n",
      "Epoch 1300: train MAPE 0.0716, test MAPE 0.0348\n",
      "Epoch 1400: train MAPE 0.0670, test MAPE 0.0371\n",
      "Epoch 1500: train MAPE 0.0630, test MAPE 0.0382\n",
      "Epoch 1600: train MAPE 0.0643, test MAPE 0.0386\n",
      "Epoch 1700: train MAPE 0.0675, test MAPE 0.0430\n",
      "Epoch 1800: train MAPE 0.0606, test MAPE 0.0355\n",
      "Epoch 1900: train MAPE 0.0607, test MAPE 0.0370\n"
     ]
    }
   ],
   "source": [
    "model = AirModel()\n",
    "optimizer = optim.Adam(model.parameters())\n",
    "loss_fn = MAPELoss()\n",
    "loader = data.DataLoader(data.TensorDataset(X_train, y_train), shuffle=True, batch_size=8)\n",
    " \n",
    "n_epochs = 2000\n",
    "for epoch in range(n_epochs):\n",
    "    model.train()\n",
    "    for X_batch, y_batch in loader:\n",
    "        y_pred = model(X_batch)\n",
    "        loss = loss_fn(y_pred, y_batch)\n",
    "        optimizer.zero_grad()\n",
    "        loss.backward()\n",
    "        optimizer.step()\n",
    "    # Validation\n",
    "    if epoch % 100 != 0:\n",
    "        continue\n",
    "    model.eval()\n",
    "    with torch.no_grad():\n",
    "        y_pred = model(X_train)\n",
    "        train_rmse = loss_fn(y_pred, y_train)\n",
    "        y_pred = model(X_test)\n",
    "        test_rmse = loss_fn(y_pred, y_test)\n",
    "    print(\"Epoch %d: train MAPE %.4f, test MAPE %.4f\" % (epoch, train_rmse, test_rmse))"
   ]
  },
  {
   "cell_type": "code",
   "execution_count": 10,
   "id": "07ce8b97",
   "metadata": {},
   "outputs": [
    {
     "data": {
      "image/png": "[encoded data removed]",
      "text/plain": [
       "<Figure size 640x480 with 1 Axes>"
      ]
     },
     "metadata": {},
     "output_type": "display_data"
    }
   ],
   "source": [
    "with torch.no_grad():\n",
    "    # shift train predictions for plotting\n",
    "    train_plot = np.ones_like(pa_MA_data) * np.nan\n",
    "    y_pred = model(X_train)\n",
    "    y_pred = y_pred[:, -1, :]\n",
    "    train_plot[lookback:train_size] = model(X_train)[:, -1, :]\n",
    "    # shift test predictions for plotting\n",
    "    test_plot = np.ones_like(pa_MA_data) * np.nan\n",
    "    test_plot[train_size+lookback:len(pa_MA_data)] = model(X_test)[:, -1, :]\n",
    "# plot\n",
    "plt.plot(pa_MA_data, c='b')\n",
    "plt.plot(train_plot, c='r')\n",
    "plt.plot(test_plot, c='g')\n",
    "plt.show()"
   ]
  },
  {
   "cell_type": "code",
   "execution_count": 11,
   "id": "83202f7b",
   "metadata": {},
   "outputs": [
    {
     "data": {
      "image/png": "[encoded data removed]",
      "text/plain": [
       "<Figure size 640x480 with 1 Axes>"
      ]
     },
     "metadata": {},
     "output_type": "display_data"
    }
   ],
   "source": [
    "plt.plot(pa_MA_data, c='b')\n",
    "plt.plot(train_plot, c='r')\n",
    "plt.plot(test_plot, c='g')\n",
    "plt.xlim([len(pa_MA_data) - test_size,len(pa_MA_data)])\n",
    "plt.ylim([0,1500])\n",
    "plt.show()"
   ]
  },
  {
   "cell_type": "code",
   "execution_count": 12,
   "id": "1602d900",
   "metadata": {},
   "outputs": [
    {
     "data": {
      "image/png": "[encoded data removed]",
      "text/plain": [
       "<Figure size 640x480 with 1 Axes>"
      ]
     },
     "metadata": {},
     "output_type": "display_data"
    }
   ],
   "source": [
    "plt.plot(pa_MA_data, c='b')\n",
    "plt.plot(train_plot, c='r')\n",
    "plt.plot(test_plot, c='g')\n",
    "plt.xlim([10,30])\n",
    "plt.ylim([0,1500])\n",
    "plt.show()"
   ]
  },
  {
   "cell_type": "code",
   "execution_count": null,
   "id": "a23f37c6",
   "metadata": {},
   "outputs": [],
   "source": []
  }
 ],
 "metadata": {
  "kernelspec": {
   "display_name": "Python 3 (ipykernel)",
   "language": "python",
   "name": "python3"
  },
  "language_info": {
   "codemirror_mode": {
    "name": "ipython",
    "version": 3
   },
   "file_extension": ".py",
   "mimetype": "text/x-python",
   "name": "python",
   "nbconvert_exporter": "python",
   "pygments_lexer": "ipython3",
   "version": "3.8.16"
  },
  "toc": {
   "base_numbering": 1,
   "nav_menu": {},
   "number_sections": true,
   "sideBar": true,
   "skip_h1_title": false,
   "title_cell": "Table of Contents",
   "title_sidebar": "Contents",
   "toc_cell": false,
   "toc_position": {},
   "toc_section_display": true,
   "toc_window_display": false
  },
  "varInspector": {
   "cols": {
    "lenName": 16,
    "lenType": 16,
    "lenVar": 40
   },
   "kernels_config": {
    "python": {
     "delete_cmd_postfix": "",
     "delete_cmd_prefix": "del ",
     "library": "var_list.py",
     "varRefreshCmd": "print(var_dic_list())"
    },
    "r": {
     "delete_cmd_postfix": ") ",
     "delete_cmd_prefix": "rm(",
     "library": "var_list.r",
     "varRefreshCmd": "cat(var_dic_list()) "
    }
   },
   "types_to_exclude": [
    "module",
    "function",
    "builtin_function_or_method",
    "instance",
    "_Feature"
   ],
   "window_display": false
  }
 },
 "nbformat": 4,
 "nbformat_minor": 5
}
